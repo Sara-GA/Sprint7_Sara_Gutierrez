{
 "cells": [
  {
   "cell_type": "markdown",
   "metadata": {},
   "source": [
    "- EXERCICI 1\n",
    "\n",
    "Calculadora de l'índex de massa corporal\n",
    "\n",
    "Escriu una funció que calculi l'IMC ingressat per l'usuari/ària, és a dir, qui ho executi haurà d'ingressar aquestes dades. Pots obtenir més informació del seu càlcul en:\n",
    "\n",
    "La funció ha de classificar el resultat en les seves respectives categories"
   ]
  },
  {
   "cell_type": "code",
   "execution_count": null,
   "metadata": {},
   "outputs": [],
   "source": [
    "\n",
    "peso = float(input(\"Cuanto pesas?\"))\n",
    "altura = float(input(\"Cuanto mides?\"))\n",
    "\n",
    "#Creamos primero una variable que va hacer que la altura sea al cuadrado, para utilizarla dentro de la función\n",
    "alturaM2 = altura**2\n",
    "\n",
    "#Creamos la función con la operación:\n",
    "def IMC(peso, alturaM2):\n",
    "   return peso/alturaM2\n",
    "\n",
    "#Metemos el resultado dentro de una variable:\n",
    "resultadoIMC = IMC(peso, alturaM2)\n",
    "\n",
    "print(\"Tu índice de masa corporal es:\", round(resultadoIMC,2))\n",
    "\n",
    "#Creamos los siguientes prints con las condiciones:\n",
    "if resultadoIMC < 18.5:\n",
    "    print(\"Y por tanto estás por debajo de tu peso normal\")\n",
    "elif resultadoIMC<=24.99:\n",
    "        print (\"Y tu peso es considerado el normal\")\n",
    "elif resultadoIMC <=29.99:\n",
    "        print(\"Y se considera que tienes sobrepeso\")\n",
    "else:\n",
    "    print(\"Y se considera que tienes obesidad\")\n",
    "\n"
   ]
  },
  {
   "cell_type": "markdown",
   "metadata": {},
   "source": [
    "- EXERCICI 2\n",
    "\n",
    "Convertidor de temperatures.\n",
    "\n",
    "Existeixen diverses unitats de temperatura utilitzades en diferents contextos i regions. Les més comunes són Celsius (°C), Fahrenheit (°F) i Kelvin (K). També existeixen altres unitats com Rankine (°Ra) i Réaumur (°Re). Selecciona almenys 2 conversors, de tal manera que en introduir una temperatura retorni, com a mínim, dues conversions."
   ]
  },
  {
   "cell_type": "code",
   "execution_count": null,
   "metadata": {},
   "outputs": [],
   "source": [
    "TemperaturaCel = int(input(\"Introduce los grados °C\")) #Si considerramos que alguien podría introducir decimales tendriamos que poner float\n",
    "\n",
    "#Creamos las fucniones:\n",
    "def Fahrenheit(TemperaturaCel):\n",
    "    return int(TemperaturaCel*9/5)+32\n",
    "\n",
    "def Kelvin(TemperaturaCel):\n",
    "    return TemperaturaCel + 273.15\n",
    "\n",
    "#Metemos los resultados dentro de dos variables:\n",
    "resultadoFah = Fahrenheit(TemperaturaCel)\n",
    "resultadoKel = Kelvin(TemperaturaCel)\n",
    "\n",
    "#Hacemos el print:\n",
    "print(TemperaturaCel,\"grados Celsius equivalen a\",resultadoFah,\"grados Fahrenheit y a\",resultadoKel,\"Kelvin\")\n",
    "\n"
   ]
  },
  {
   "cell_type": "markdown",
   "metadata": {},
   "source": [
    "- EXERCICI 3\n",
    "\n",
    "Comptador de paraules d'un text.\n",
    "\n",
    "Escriu una funció que donat un text, mostri les vegades que apareix cada paraula."
   ]
  },
  {
   "cell_type": "markdown",
   "metadata": {},
   "source": [
    "intentos = 0\n",
    "\n",
    "intentos += 1\n",
    "    # intentos = intentos +1"
   ]
  },
  {
   "cell_type": "code",
   "execution_count": null,
   "metadata": {},
   "outputs": [],
   "source": [
    "import re  # Importamos el módulo de expresiones regulares \"re\" para limpiar el texto de todo aquello que no sean las simples palabras\n",
    "\n",
    "#Le dicimos al usuario que introducza un texto:\n",
    "texto = input(\"Copia y pega un párrafo\")\n",
    "\n",
    "#Empezamos a crear la función:\n",
    "def ContPalabr(texto):\n",
    "\n",
    "    texto = texto.lower() #Le decimos que convierta todas las palabras a minúsculas (Sino Hola y hola lo contará como dos palabras diferentes)\n",
    "    texto = re.sub(r'[^\\w\\s]', '', texto)  #y le decimos que elimine cualquier carácter que no sea palabra o espacio y lo substituya por un espacio(con una de las funciones del modulo \"re\" que hemos comentado antes)\n",
    "    palabras = texto.split()#Le decimos que nos divida el texto en palabras\n",
    "\n",
    "    #Creamos un diccionario para contar las palabras\n",
    "    #donde vamos a almacenar las palabras como claves y su frecuencia (es decir, cuántas veces aparecen) como valores.\n",
    "    contaje = {}\n",
    "\n",
    "    #Y le decimos que: para cada palabra dentro de \"palabras\"\n",
    "    for palabra in palabras:\n",
    "        if palabra in contaje: #si la palabra ya está en contaje, es decir True\n",
    "            contaje[palabra] += 1 #Le sumamos una, porque ya está\n",
    "        else:\n",
    "            contaje[palabra] = 1 #Si no está, pasará directamente al else y le diremos que a esa palabra le de el valor de 1\n",
    "\n",
    "    return contaje\n",
    "\n",
    "#Llamamos a la función y la metemos dentro de la variable \"resultado\"\n",
    "resultado = ContPalabr(texto)\n",
    "\n",
    "#Y hacemos el bucle de nombrando tanto claves como valores \n",
    "for palabra, frecuencia in resultado.items():\n",
    "    print(palabra + \": \"+ str(frecuencia)) #para que nos imprima el resultado\n"
   ]
  },
  {
   "cell_type": "markdown",
   "metadata": {},
   "source": [
    "- EXERCICI 4\n",
    "\n",
    "Diccionari invers.\n",
    "\n",
    "Resulta que el client té una enquesta molt antiga que s'emmagatzema en un diccionari i els resultats els necessita al revés, és a dir, intercanviats les claus i els valors. Els valors i claus en el diccionari original són únics; si aquest no és el cas, la funció hauria d'imprimir un missatge d'advertiment."
   ]
  },
  {
   "cell_type": "code",
   "execution_count": null,
   "metadata": {},
   "outputs": [],
   "source": [
    "\n",
    "diccionario = dict() #Creamos un diccionario\n",
    "\n",
    "#Empezamos a pedirle los valores al usuario:\n",
    "diccionario[\"Edad\"] = int(input(\"Que edad tienes?\"))\n",
    "diccionario[\"Nombre\"] = input(\"Como te llamas?\")\n",
    "diccionario[\"EdadPref\"] = int(input(\"Que edad te gustaría tener?\"))\n",
    "diccionario[\"NombrePref\"] = input(\"Como te gustaría llamarte?\")\n",
    "\n",
    "#Ahora hacemos que ese diccionario se imprima con los valores y claves de manera invertida:\n",
    "DicInvertido = dict([(value, key) for key, value in diccionario.items()])\n",
    "#Dentro de la variable DicInvertido creamos un diccionario que partirá de los items de \"diccionario\" original\n",
    "#y donde ya definimos los valores y claves en ese orden, por lo que le estamos diciendo así, que invierta el orden\n",
    "print(DicInvertido)\n",
    "\n",
    "#Para que nos indique si hemos repedio algún valor creamos una función:\n",
    "def ComparadorValores(diccionario):\n",
    "    #Creamos una variable llamada valores_unicos que será un set, porque así nos aseguramos que no hay valores únicos(los set no lo admiten)\n",
    "    valores_unicos = set()\n",
    "    \n",
    "    #Después empezamos a indicarque que por cada uno de los valores de \"diccionario\"\n",
    "    for valor in diccionario.values():\n",
    "        #Mire si ese valor está dentro del set valores_unicos, y por tanto es True\n",
    "        if valor in valores_unicos:\n",
    "            print(\"Has dado la misma respuesta en alguna pregunta.\") #nos tendrá que imprimir este mensaje\n",
    "        else: #Si no está dentro del set, de decimos que lo añada \n",
    "            valores_unicos.add(valor)\n",
    "\n",
    "    #Le decimos que lo imprima:\n",
    "    print(diccionario)\n",
    "\n",
    "#Y ahora llamamos a la función:\n",
    "ComparadorValores(diccionario)\n"
   ]
  }
 ],
 "metadata": {
  "kernelspec": {
   "display_name": "Python 3",
   "language": "python",
   "name": "python3"
  },
  "language_info": {
   "codemirror_mode": {
    "name": "ipython",
    "version": 3
   },
   "file_extension": ".py",
   "mimetype": "text/x-python",
   "name": "python",
   "nbconvert_exporter": "python",
   "pygments_lexer": "ipython3",
   "version": "3.12.6"
  }
 },
 "nbformat": 4,
 "nbformat_minor": 2
}
