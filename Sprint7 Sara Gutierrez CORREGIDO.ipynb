{
 "cells": [
  {
   "cell_type": "markdown",
   "metadata": {},
   "source": [
    "# NIVEL 1"
   ]
  },
  {
   "cell_type": "markdown",
   "metadata": {},
   "source": [
    "- EXERCICI 1\n",
    "\n",
    "Calculadora de l'índex de massa corporal\n",
    "\n",
    "Escriu una funció que calculi l'IMC ingressat per l'usuari/ària, és a dir, qui ho executi haurà d'ingressar aquestes dades. Pots obtenir més informació del seu càlcul en:\n",
    "\n",
    "La funció ha de classificar el resultat en les seves respectives categories"
   ]
  },
  {
   "cell_type": "code",
   "execution_count": 1,
   "metadata": {},
   "outputs": [
    {
     "name": "stdout",
     "output_type": "stream",
     "text": [
      "Tu índice de masa corporal es: 17.16\n",
      "Y estás por debajo de tu peso normal\n"
     ]
    }
   ],
   "source": [
    "\n",
    "peso = float(input(\"Cuanto pesas en Kg?Indica los decimales con un punto\"))\n",
    "altura = float(input(\"Cuanto mides en metros?Indica los decimales con un punto\"))\n",
    "\n",
    "\n",
    "def IMC(peso, altura):\n",
    "   resultadoIMC = peso/altura**2\n",
    "   print(\"Tu índice de masa corporal es:\", round(resultadoIMC,2))\n",
    "   if resultadoIMC < 18.5:\n",
    "        print(\"Y estás por debajo de tu peso normal\")\n",
    "   elif resultadoIMC<=24.99:\n",
    "        print (\"Y tu peso es considerado el normal\")\n",
    "   elif resultadoIMC <=29.99:\n",
    "        print(\"Y se considera que tienes sobrepeso\")\n",
    "   else:\n",
    "        print(\"Y se considera que tienes obesidad\")\n",
    "\n",
    "IMC(peso,altura)"
   ]
  },
  {
   "cell_type": "markdown",
   "metadata": {},
   "source": [
    "- EXERCICI 2\n",
    "\n",
    "Convertidor de temperatures.\n",
    "\n",
    "Existeixen diverses unitats de temperatura utilitzades en diferents contextos i regions. Les més comunes són Celsius (°C), Fahrenheit (°F) i Kelvin (K). També existeixen altres unitats com Rankine (°Ra) i Réaumur (°Re). Selecciona almenys 2 conversors, de tal manera que en introduir una temperatura retorni, com a mínim, dues conversions."
   ]
  },
  {
   "cell_type": "code",
   "execution_count": 9,
   "metadata": {},
   "outputs": [
    {
     "name": "stdout",
     "output_type": "stream",
     "text": [
      "42.5 grados Celsius equivalen a 108.5 grados Fahrenheit y a 315.65 Kelvin\n"
     ]
    }
   ],
   "source": [
    "TemperaturaCel = float(input(\"Introduce los grados °C. Indica los decimales con un punto\")) \n",
    "\n",
    "def conversor_temperatura(TemperaturaCel):\n",
    "    resultadoFah = round(TemperaturaCel*9/5+32,2)\n",
    "    resultadoKel = round(TemperaturaCel + 273.15,2)\n",
    "    return resultadoFah, resultadoKel\n",
    "\n",
    "resultadoFah, resultadoKel= conversor_temperatura(TemperaturaCel)\n",
    "\n",
    "print(TemperaturaCel,\"grados Celsius equivalen a\",resultadoFah,\"grados Fahrenheit y a\",resultadoKel,\"Kelvin\")\n",
    "\n"
   ]
  },
  {
   "cell_type": "markdown",
   "metadata": {},
   "source": [
    "- EXERCICI 3\n",
    "\n",
    "Comptador de paraules d'un text.\n",
    "\n",
    "Escriu una funció que donat un text, mostri les vegades que apareix cada paraula."
   ]
  },
  {
   "cell_type": "code",
   "execution_count": 3,
   "metadata": {},
   "outputs": [
    {
     "name": "stdout",
     "output_type": "stream",
     "text": [
      "12122023: 1\n",
      "cómo: 2\n",
      "interpretar: 3\n",
      "gráficas: 2\n",
      "estadísticas: 2\n",
      "de: 5\n",
      "manera: 2\n",
      "efectiva: 2\n",
      "pautas: 1\n",
      "para: 2\n",
      "análisis: 1\n",
      "datos: 1\n",
      "en: 1\n",
      "el: 2\n",
      "ámbito: 1\n",
      "financiero: 1\n",
      "y: 3\n",
      "del: 1\n",
      "mercado: 1\n",
      "valores: 1\n",
      "aprende: 1\n",
      "a: 1\n",
      "comprender: 1\n",
      "tipos: 1\n",
      "gráficos: 1\n",
      "analizar: 1\n",
      "ejes: 1\n",
      "identificar: 1\n",
      "patrones: 1\n",
      "tendencias: 1\n",
      "relaciones: 1\n",
      "entre: 1\n",
      "variables: 1\n",
      "considerar: 1\n",
      "contexto: 1\n",
      "decisiones: 1\n",
      "informadas: 1\n"
     ]
    }
   ],
   "source": [
    "import re  \n",
    "\n",
    "texto = input(\"Copia y pega un párrafo\")\n",
    "\n",
    "def contar_palabras(texto):\n",
    "\n",
    "    texto = texto.lower() \n",
    "    texto = re.sub(r'[^\\w\\s]', '', texto) \n",
    "    palabras = texto.split()\n",
    "\n",
    "    conteo_palabras = {}\n",
    "\n",
    "    for palabra in palabras:\n",
    "        if palabra in conteo_palabras: \n",
    "            conteo_palabras[palabra] += 1 \n",
    "        else:\n",
    "            conteo_palabras[palabra] = 1 \n",
    "    \n",
    "    for palabra, frecuencia in conteo_palabras.items():\n",
    "        print(f\"{palabra}: {frecuencia}\")\n",
    "\n",
    "\n",
    "contar_palabras(texto)\n",
    "\n",
    "\n"
   ]
  },
  {
   "cell_type": "markdown",
   "metadata": {},
   "source": [
    "- EXERCICI 4\n",
    "\n",
    "Diccionari invers.\n",
    "\n",
    "Resulta que el client té una enquesta molt antiga que s'emmagatzema en un diccionari i els resultats els necessita al revés, és a dir, intercanviats les claus i els valors. Els valors i claus en el diccionari original són únics; si aquest no és el cas, la funció hauria d'imprimir un missatge d'advertiment."
   ]
  },
  {
   "cell_type": "code",
   "execution_count": 4,
   "metadata": {},
   "outputs": [
    {
     "name": "stdout",
     "output_type": "stream",
     "text": [
      "{1: 'a', 2: 'b', 3: 'c'}\n",
      "Hay un mismo valor para una clave\n",
      "Hay un mismo valor para una clave\n"
     ]
    },
    {
     "data": {
      "text/plain": [
       "{'apple', 'avocado', 'banana', 'lemon', 'orange', 'watermelon'}"
      ]
     },
     "execution_count": 4,
     "metadata": {},
     "output_type": "execute_result"
    }
   ],
   "source": [
    "#PARTE 1: Diccionario con claves y valores invertidos:\n",
    "diccionario = {'a':1, 'b':2, 'c':3}\n",
    "\n",
    "def diccionario_invertido(diccionario):\n",
    "    DicInvertido = dict([(value, key) for key, value in diccionario.items()])\n",
    "    return DicInvertido\n",
    "DicInvertido = diccionario_invertido(diccionario)\n",
    "\n",
    "print(DicInvertido)\n",
    "\n",
    "#PARTE 2: Diccionarios con valores repetidos:\n",
    "dictionario2 = {'a':'apple', 'b': 'banana', 'c': 'banana', 'd': 'lemon',\n",
    "              'e': 'avocado', 'f':'avocado'}  \n",
    "\n",
    "dictionario3 = {'a':'apple', 'b': 'banana', 'c': 'orange', 'd': 'lemon',\n",
    "              'e': 'avocado', 'f':'watermelon'} \n",
    "\n",
    "\n",
    "def ComparadorValores(diccionarios):\n",
    "    #Creamos un set para asegurarnos que no hay valores únicos:\n",
    "    valores_unicos = set()\n",
    "    \n",
    "    for valor in diccionarios.values():\n",
    "        if valor in valores_unicos:\n",
    "            print(\"Hay un mismo valor para una clave\") \n",
    "        else:\n",
    "            valores_unicos.add(valor)\n",
    "    return valores_unicos\n",
    "\n",
    "#Hacemos la prueba con los dos diccionarios:\n",
    "ComparadorValores(dictionario2)\n",
    "ComparadorValores(dictionario3)\n"
   ]
  },
  {
   "cell_type": "markdown",
   "metadata": {},
   "source": [
    "## NIVEL 2"
   ]
  },
  {
   "cell_type": "markdown",
   "metadata": {},
   "source": [
    "- EXERCICI 1\n",
    "\n",
    "Diccionari invers amb duplicats\n",
    "\n",
    "Continuant amb l'exercici 4 del nivell 1: al client es va oblidar de comentar un detall i resulta que els valors en el diccionari original poden duplicar-se i més, per la qual cosa les claus intercanviades poden tenir duplicats. En aquest cas, en l'exercici anterior imprimies un missatge d'advertiment, ara, els valors del diccionari resultant hauran d'emmagatzemar-se com una llista. Tingues en compte que si és un valor únic no ha de ser una llista."
   ]
  },
  {
   "cell_type": "code",
   "execution_count": 5,
   "metadata": {},
   "outputs": [
    {
     "name": "stdout",
     "output_type": "stream",
     "text": [
      "{'apple': ['a'], 'banana': ['b', 'c'], 'lemon': ['d'], 'avocado': ['e', 'f']}\n"
     ]
    }
   ],
   "source": [
    "dictionary = {'a':'apple', 'b': 'banana', 'c': 'banana', 'd': 'lemon', 'e': 'avocado', 'f':'avocado'}\n",
    "\n",
    "\n",
    "def diccionario_invertido(dictionary):\n",
    "\n",
    "    reverse_dictionary = dict()\n",
    "    \n",
    "    for clave, valor in dictionary.items():\n",
    "        if valor in reverse_dictionary:\n",
    "            reverse_dictionary[valor].append(clave)\n",
    "        else:\n",
    "           reverse_dictionary[valor] = [clave]\n",
    "    return reverse_dictionary\n",
    "\n",
    "print(diccionario_invertido(dictionary))\n",
    "\n"
   ]
  },
  {
   "cell_type": "markdown",
   "metadata": {},
   "source": [
    "- Exercici 2\n",
    "\n",
    "Conversió de tipus de dades\n",
    "\n",
    "El client rep una llista de dades i necessita generar dues llistes, la primera on estaran tots els elements que es van poder convertir en flotants i l'altra on estan els elements que no es van poder convertir. Exemple de la llista que rep el client: [ '1.3', 'one' , '1e10' , 'seven', '3-1/2', ('2',1,1.4,'not-a-number'), [1,2,'3','3.4']]"
   ]
  },
  {
   "cell_type": "code",
   "execution_count": 6,
   "metadata": {},
   "outputs": [
    {
     "name": "stdout",
     "output_type": "stream",
     "text": [
      "[1.3, 'one', 10000000000.0, 'seven', '3-1/2', 2.0, 1.0, 1.4, 'not-a-number', 1.0, 2.0, 3.0, 3.4]\n",
      "Los números decimales de la lista son: [1.3, 10000000000.0, 2.0, 1.0, 1.4, 1.0, 2.0, 3.0, 3.4]\n",
      "El resto de los items de la lista son: ['one', 'seven', '3-1/2', 'not-a-number']\n"
     ]
    }
   ],
   "source": [
    "lista = [ '1.3', 'one' , '1e10' , 'seven', '3-1/2', ('2',1,1.4,'not-a-number'), [1,2,'3','3.4']]\n",
    "\n",
    "#Deshacemos las listas y tuplas dentro de la lista y los convetimos en elementos de la lista:\n",
    "def orden_lista(lista):\n",
    "    \n",
    "    lista_ordenada = []\n",
    "\n",
    "    for valores1 in lista:\n",
    "        if isinstance(valores1,list) or isinstance(valores1,tuple):\n",
    "            for valores_sublistas in valores1:\n",
    "                try:\n",
    "                    lista_ordenada.append(float(valores_sublistas))\n",
    "                except ValueError:\n",
    "                    lista_ordenada.append(valores_sublistas)\n",
    "        else:\n",
    "            try:\n",
    "                lista_ordenada.append(float(valores1))\n",
    "            except ValueError:\n",
    "                lista_ordenada.append(valores1)\n",
    "        \n",
    "    return lista_ordenada\n",
    "\n",
    "lista_ordenada= orden_lista(lista)\n",
    "\n",
    "print(orden_lista(lista))\n",
    "\n",
    "#Ahora sí, metemos los float y no float en dos listas distintas:\n",
    "def lista_float_nofloat (lista_ordenada):\n",
    "\n",
    "    items_float = []\n",
    "    items_nofloat = []\n",
    "\n",
    "    for valores2 in lista_ordenada:\n",
    "        if isinstance(valores2, float):\n",
    "            items_float.append(valores2)\n",
    "        else:\n",
    "            items_nofloat.append(valores2)\n",
    "    return items_float, items_nofloat\n",
    "\n",
    "items_float, items_nofloat = lista_float_nofloat(lista_ordenada)\n",
    "\n",
    "print(f\"Los números decimales de la lista son: {items_float}\")\n",
    "print(f\"El resto de los items de la lista son: {items_nofloat}\")\n"
   ]
  }
 ],
 "metadata": {
  "kernelspec": {
   "display_name": "Python 3",
   "language": "python",
   "name": "python3"
  },
  "language_info": {
   "codemirror_mode": {
    "name": "ipython",
    "version": 3
   },
   "file_extension": ".py",
   "mimetype": "text/x-python",
   "name": "python",
   "nbconvert_exporter": "python",
   "pygments_lexer": "ipython3",
   "version": "3.12.7"
  }
 },
 "nbformat": 4,
 "nbformat_minor": 2
}
